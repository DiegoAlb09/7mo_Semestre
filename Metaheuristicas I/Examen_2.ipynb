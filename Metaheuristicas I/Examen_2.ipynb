{
 "cells": [
  {
   "cell_type": "markdown",
   "metadata": {},
   "source": [
    "## Universidad Autonoma de Aguascalientes\n",
    "## Departamento: Ciencias de la Computación\n",
    "## Carrera: Ingeníeria en Computación Inteligente\n",
    "### Curso: Metaheuristicas I\n",
    "### Maestro: Dr. Francisco Javier Luna Rosas\n",
    "### Alumnos: \n",
    "### Dante Alejandro Alegria Romero\n",
    "### Diego Alberto Aranda Gonzalez\n",
    "### Andrea Margarita Balandran Felix\n",
    "### Diego Emilia Moreno Sanchez\n",
    "### Semestre: Agosto_Diciembre del 2024\"\n",
    "### Examen 2do Parcial\n",
    "# **El auto-reproducible no se ejecuta, lo tiene que descargar y ejecutar desde la cmd**\n",
    "# **Ejemplo: python Examen2.py**"
   ]
  },
  {
   "cell_type": "markdown",
   "metadata": {},
   "source": [
    "#### Importar librerias"
   ]
  },
  {
   "cell_type": "code",
   "execution_count": 3,
   "metadata": {},
   "outputs": [],
   "source": [
    "import json\n",
    "import time\n",
    "import multiprocessing as mp \n",
    "import matplotlib.pyplot as plt\n",
    "import numpy as np\n",
    "import pyswarms as ps\n",
    "import pandas as pd"
   ]
  },
  {
   "cell_type": "markdown",
   "metadata": {},
   "source": [
    "#### Funciones para el manejo del JSON"
   ]
  },
  {
   "cell_type": "code",
   "execution_count": 4,
   "metadata": {},
   "outputs": [],
   "source": [
    "def read_json(file_path='reviews.json'):\n",
    "  with open(file_path) as file:\n",
    "    return json.load(file)\n",
    "  \n",
    "def process_window(tasks):\n",
    "  return sum(tasks['time'] for tasks in tasks)"
   ]
  },
  {
   "cell_type": "markdown",
   "metadata": {},
   "source": [
    "#### Parametros"
   ]
  },
  {
   "cell_type": "code",
   "execution_count": 6,
   "metadata": {},
   "outputs": [],
   "source": [
    "window_size = 100\n",
    "num_processors = 8\n",
    "max_reviews = 100000\n",
    "tasks = read_json(\"reviews.json\")"
   ]
  },
  {
   "cell_type": "markdown",
   "metadata": {},
   "source": [
    "#### Procesamiento en Parallelo"
   ]
  },
  {
   "cell_type": "code",
   "execution_count": null,
   "metadata": {},
   "outputs": [],
   "source": [
    "!python parallel_processing.py"
   ]
  },
  {
   "cell_type": "code",
   "execution_count": 8,
   "metadata": {},
   "outputs": [],
   "source": [
    "def pso_objective(assignments, window, num_processors):\n",
    "    assignments = np.round(assignments).astype(int)\n",
    "    assignments = np.clip(assignments, 0, num_processors - 1)\n",
    "    processor_times = np.zeros(num_processors)\n",
    "    for task, processor in zip(window, assignments):\n",
    "        processor_times[processor] += task['time']\n",
    "    return np.max(processor_times)\n",
    "\n",
    "def pso_assignment(window, num_processors):\n",
    "    num_tasks = len(window)\n",
    "    bounds = (np.zeros(num_tasks), np.ones(num_tasks) * (num_processors - 1))\n",
    "    options = {'c1': 0.5, 'c2': 0.3, 'w': 0.9}\n",
    "    optimizer = ps.single.GlobalBestPSO(n_particles=60, dimensions=num_tasks, options=options, bounds=bounds)\n",
    "    best_cost, best_pos = optimizer.optimize(lambda x: pso_objective(x, window, num_processors), iters=50)\n",
    "    return best_cost\n",
    "\n",
    "def pso_processing(tasks, window_size, num_processors):\n",
    "    total_time = 0\n",
    "    for i in range(0, len(tasks), window_size):\n",
    "        window = tasks[i:i + window_size]\n",
    "        makespan = pso_assignment(window, num_processors)\n",
    "        total_time += makespan\n",
    "    return total_time\n"
   ]
  },
  {
   "cell_type": "code",
   "execution_count": 1,
   "metadata": {},
   "outputs": [
    {
     "ename": "NameError",
     "evalue": "name 'max_reviews' is not defined",
     "output_type": "error",
     "traceback": [
      "\u001b[1;31m---------------------------------------------------------------------------\u001b[0m",
      "\u001b[1;31mNameError\u001b[0m                                 Traceback (most recent call last)",
      "Cell \u001b[1;32mIn[1], line 2\u001b[0m\n\u001b[0;32m      1\u001b[0m pso_times \u001b[38;5;241m=\u001b[39m []\n\u001b[1;32m----> 2\u001b[0m review_counts \u001b[38;5;241m=\u001b[39m \u001b[38;5;28mlist\u001b[39m(\u001b[38;5;28mrange\u001b[39m(\u001b[38;5;241m10000\u001b[39m, \u001b[43mmax_reviews\u001b[49m \u001b[38;5;241m+\u001b[39m \u001b[38;5;241m1\u001b[39m, \u001b[38;5;241m10000\u001b[39m))\n\u001b[0;32m      3\u001b[0m \u001b[38;5;28;01mfor\u001b[39;00m count \u001b[38;5;129;01min\u001b[39;00m review_counts:\n\u001b[0;32m      4\u001b[0m     current_tasks \u001b[38;5;241m=\u001b[39m tasks[:count]\n",
      "\u001b[1;31mNameError\u001b[0m: name 'max_reviews' is not defined"
     ]
    }
   ],
   "source": [
    "pso_times = []\n",
    "review_counts = list(range(10000, max_reviews + 1, 10000))\n",
    "for count in review_counts:\n",
    "    current_tasks = tasks[:count]\n",
    "    start_time = time.time()\n",
    "    pso_processing(current_tasks, window_size, num_processors)\n",
    "    pso_times.append(time.time() - start_time)\n",
    "    print(f\"Processed {count} reviews\")"
   ]
  },
  {
   "cell_type": "markdown",
   "metadata": {},
   "source": [
    "#### Graficas y Tablas de los Resultados"
   ]
  },
  {
   "cell_type": "code",
   "execution_count": null,
   "metadata": {},
   "outputs": [],
   "source": [
    "#Grafica de lineas\n",
    "plt.figure(figsize=(12,8))\n",
    "plt.plot(review_counts, parallel_times, label='Parallel Processing', marker='o')\n",
    "plt.plot(review_counts, pso_times, label='Sequential Processing', marker='o')\n",
    "plt.xlabel('Number of Reviews')\n",
    "plt.ylabel('Processing Time (s)')\n",
    "plt.title('Movie Review Processing Time')\n",
    "plt.legend()\n",
    "plt.grid(True)\n",
    "plt.show()"
   ]
  },
  {
   "cell_type": "code",
   "execution_count": null,
   "metadata": {},
   "outputs": [],
   "source": [
    "fig, ax1 = plt.subplots(figsize=(12,8))\n",
    "bar_width = 0.35\n",
    "index = np.arange(len(review_counts))\n",
    "bar1 = ax1.bar(index, parallel_times, bar_width, label='Parallel Processing', color='b')\n",
    "bar2 = ax1.bar(index + bar_width, pso_times, bar_width, label='Sequential Processing', color='r')\n",
    "ax1.set_xlabel('Number of Reviews')\n",
    "ax1.set_ylabel('Processing Time (s)')\n",
    "ax1.set_title('Movie Review Processing Time')\n",
    "ax1.set_xticks(index + bar_width / 2)\n",
    "ax1.set_xticklabels(review_counts)\n",
    "ax1.legend()\n",
    "plt.grid(True)\n",
    "plt.tight_layout()\n",
    "plt.show()"
   ]
  },
  {
   "cell_type": "code",
   "execution_count": null,
   "metadata": {},
   "outputs": [],
   "source": [
    "#Tabla\n",
    "speedup = [p / o for p, o in zip(parallel_times, pso_times)]\n",
    "efficiency = [s / num_processors for s in speedup]\n",
    "results_df = pd.DataFrame({\n",
    "    'Reviews': review_counts,\n",
    "    'Parallel Time': parallel_times,\n",
    "    'PSO Time': pso_times,\n",
    "    'Speedup': speedup,\n",
    "    'Efficiency': efficiency\n",
    "})\n",
    "results_df.to_string(index=False)"
   ]
  }
 ],
 "metadata": {
  "kernelspec": {
   "display_name": "Python 3",
   "language": "python",
   "name": "python3"
  },
  "language_info": {
   "codemirror_mode": {
    "name": "ipython",
    "version": 3
   },
   "file_extension": ".py",
   "mimetype": "text/x-python",
   "name": "python",
   "nbconvert_exporter": "python",
   "pygments_lexer": "ipython3",
   "version": "3.12.2"
  }
 },
 "nbformat": 4,
 "nbformat_minor": 2
}
