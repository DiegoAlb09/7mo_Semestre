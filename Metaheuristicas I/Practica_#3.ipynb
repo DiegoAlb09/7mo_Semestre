{
 "cells": [
  {
   "cell_type": "markdown",
   "metadata": {},
   "source": [
    "## Universidad Autonoma de Aguascalientes\n",
    "## Departamento: Ciencias de la Computación\n",
    "## Carrera: Ingeníeria en Computación Inteligente\n",
    "### Curso: Metaheuristicas I\n",
    "### Maestro: Dr. Francisco Javier Luna Rosas\n",
    "### Alumno: Diego Alberto Aranda Gonzalez\n",
    "### Semestre: Agosto_Diciembre del 2024"
   ]
  },
  {
   "cell_type": "markdown",
   "metadata": {},
   "source": [
    "## Practica No.3 Optimización por enjambre de particulas (PSO)\n",
    "### PSO es un algoritmo de optimización basado en la simulación de la conducta social de organismos, como bandadas de aves o banco de peces. En esta practica implementamos PSO para buscar el optimo global de uan función en 2D (f(x) = x^2)."
   ]
  },
  {
   "cell_type": "markdown",
   "metadata": {},
   "source": [
    "#### Paso 1: Importar las librerias necesarias"
   ]
  },
  {
   "cell_type": "code",
   "execution_count": 1,
   "metadata": {},
   "outputs": [],
   "source": [
    "import numpy as np\n",
    "import random as rd"
   ]
  },
  {
   "cell_type": "markdown",
   "metadata": {},
   "source": [
    "#### Paso 2: Definir la función objetivo"
   ]
  },
  {
   "cell_type": "code",
   "execution_count": 2,
   "metadata": {},
   "outputs": [],
   "source": [
    "def objective_function(x):\n",
    "  return x**2"
   ]
  },
  {
   "cell_type": "markdown",
   "metadata": {},
   "source": [
    "#### Paso 3: Inicializar los parámetros del PSO"
   ]
  },
  {
   "cell_type": "code",
   "execution_count": 3,
   "metadata": {},
   "outputs": [],
   "source": [
    "#Parametros PSO\n",
    "num_particles = 30\n",
    "num_dimensions = 1\n",
    "num_iterations = 100\n",
    "w = 0.5 #Factor de Inercia que controla \n",
    "c1 = 1.5 #Coeficiente cognitiva\n",
    "c2 = 2.0 #Coeficiente social\n",
    "\n",
    "#Limites de la busqueda\n",
    "bounds = (-10, 10)\n",
    "\n",
    "history_positions = []"
   ]
  },
  {
   "cell_type": "markdown",
   "metadata": {},
   "source": [
    "#### Paso 4: Calcular el Fitness"
   ]
  },
  {
   "cell_type": "code",
   "execution_count": 4,
   "metadata": {},
   "outputs": [],
   "source": [
    "#Inicializar las particulas\n",
    "particles = np.random.uniform(bounds[0], bounds[1], (num_particles,num_dimensions))\n",
    "velocities = np.random.uniform(-1,1,(num_particles,num_dimensions))\n",
    "\n",
    "#Inicializar las mejores posiciones individuales y globales\n",
    "p_best_position = particles.copy()\n",
    "p_best_value = np.array([objective_function(x) for x in particles])\n",
    "g_best_position = p_best_position[np.argmin(p_best_value)] #minimo de los valores p_best\n",
    "g_best_value = np.min(p_best_value) #Valor de la función para "
   ]
  },
  {
   "cell_type": "code",
   "execution_count": 5,
   "metadata": {},
   "outputs": [
    {
     "data": {
      "text/plain": [
       "array([[ 8.76156185],\n",
       "       [-5.64533173],\n",
       "       [-5.42275216],\n",
       "       [ 7.49875352],\n",
       "       [ 1.40045011],\n",
       "       [ 0.9183564 ],\n",
       "       [-3.18012613],\n",
       "       [-7.44407747],\n",
       "       [ 1.5268779 ],\n",
       "       [-5.84889066],\n",
       "       [ 7.00615675],\n",
       "       [ 0.45935603],\n",
       "       [ 6.85502821],\n",
       "       [ 1.01117542],\n",
       "       [-7.08081401],\n",
       "       [ 9.30596594],\n",
       "       [ 2.88180701],\n",
       "       [-3.82714816],\n",
       "       [-5.89184871],\n",
       "       [-5.89176184],\n",
       "       [ 3.67181562],\n",
       "       [ 5.44904475],\n",
       "       [-0.50891949],\n",
       "       [ 2.42222271],\n",
       "       [-8.0993779 ],\n",
       "       [ 9.37524841],\n",
       "       [ 6.93772959],\n",
       "       [-4.28920531],\n",
       "       [ 3.01700862],\n",
       "       [ 4.730062  ]])"
      ]
     },
     "execution_count": 5,
     "metadata": {},
     "output_type": "execute_result"
    }
   ],
   "source": [
    "particles"
   ]
  },
  {
   "cell_type": "markdown",
   "metadata": {},
   "source": [
    "#### Paso 5: Implementar el ciclo principal del PSO"
   ]
  },
  {
   "cell_type": "code",
   "execution_count": 6,
   "metadata": {},
   "outputs": [
    {
     "name": "stdout",
     "output_type": "stream",
     "text": [
      "Iteracion: 1/100, Mejor valor global: 0.21100796686043202\n",
      "Iteracion: 2/100, Mejor valor global: [0.00074466]\n",
      "Iteracion: 3/100, Mejor valor global: [0.00074466]\n",
      "Iteracion: 4/100, Mejor valor global: [0.00074466]\n",
      "Iteracion: 5/100, Mejor valor global: [0.00074466]\n",
      "Iteracion: 6/100, Mejor valor global: [0.00074466]\n",
      "Iteracion: 7/100, Mejor valor global: [0.00074466]\n",
      "Iteracion: 8/100, Mejor valor global: [0.00074466]\n",
      "Iteracion: 9/100, Mejor valor global: [0.00074466]\n",
      "Iteracion: 10/100, Mejor valor global: [0.00074466]\n",
      "Iteracion: 11/100, Mejor valor global: [0.00074466]\n",
      "Iteracion: 12/100, Mejor valor global: [0.00021787]\n",
      "Iteracion: 13/100, Mejor valor global: [0.00021787]\n",
      "Iteracion: 14/100, Mejor valor global: [0.00021787]\n",
      "Iteracion: 15/100, Mejor valor global: [0.00021787]\n",
      "Iteracion: 16/100, Mejor valor global: [0.00021787]\n",
      "Iteracion: 17/100, Mejor valor global: [0.00021787]\n",
      "Iteracion: 18/100, Mejor valor global: [0.00021787]\n",
      "Iteracion: 19/100, Mejor valor global: [0.00021787]\n",
      "Iteracion: 20/100, Mejor valor global: [0.00021787]\n",
      "Iteracion: 21/100, Mejor valor global: [0.00021787]\n",
      "Iteracion: 22/100, Mejor valor global: [0.00021787]\n",
      "Iteracion: 23/100, Mejor valor global: [0.00021787]\n",
      "Iteracion: 24/100, Mejor valor global: [0.00021787]\n",
      "Iteracion: 25/100, Mejor valor global: [0.00021787]\n",
      "Iteracion: 26/100, Mejor valor global: [0.00021787]\n",
      "Iteracion: 27/100, Mejor valor global: [0.00021787]\n",
      "Iteracion: 28/100, Mejor valor global: [1.30160808e-05]\n",
      "Iteracion: 29/100, Mejor valor global: [1.30160808e-05]\n",
      "Iteracion: 30/100, Mejor valor global: [1.30160808e-05]\n",
      "Iteracion: 31/100, Mejor valor global: [1.30160808e-05]\n",
      "Iteracion: 32/100, Mejor valor global: [1.30160808e-05]\n",
      "Iteracion: 33/100, Mejor valor global: [1.30160808e-05]\n",
      "Iteracion: 34/100, Mejor valor global: [1.30160808e-05]\n",
      "Iteracion: 35/100, Mejor valor global: [1.30160808e-05]\n",
      "Iteracion: 36/100, Mejor valor global: [1.30160808e-05]\n",
      "Iteracion: 37/100, Mejor valor global: [1.30160808e-05]\n",
      "Iteracion: 38/100, Mejor valor global: [1.30160808e-05]\n",
      "Iteracion: 39/100, Mejor valor global: [1.30160808e-05]\n",
      "Iteracion: 40/100, Mejor valor global: [1.30160808e-05]\n",
      "Iteracion: 41/100, Mejor valor global: [1.30160808e-05]\n",
      "Iteracion: 42/100, Mejor valor global: [1.30160808e-05]\n",
      "Iteracion: 43/100, Mejor valor global: [1.30160808e-05]\n",
      "Iteracion: 44/100, Mejor valor global: [1.30160808e-05]\n",
      "Iteracion: 45/100, Mejor valor global: [1.30160808e-05]\n",
      "Iteracion: 46/100, Mejor valor global: [1.30160808e-05]\n",
      "Iteracion: 47/100, Mejor valor global: [1.30160808e-05]\n",
      "Iteracion: 48/100, Mejor valor global: [1.30160808e-05]\n",
      "Iteracion: 49/100, Mejor valor global: [1.30160808e-05]\n",
      "Iteracion: 50/100, Mejor valor global: [1.30160808e-05]\n",
      "Iteracion: 51/100, Mejor valor global: [1.30160808e-05]\n",
      "Iteracion: 52/100, Mejor valor global: [1.30160808e-05]\n",
      "Iteracion: 53/100, Mejor valor global: [1.30160808e-05]\n",
      "Iteracion: 54/100, Mejor valor global: [1.30160808e-05]\n",
      "Iteracion: 55/100, Mejor valor global: [1.30160808e-05]\n",
      "Iteracion: 56/100, Mejor valor global: [1.30160808e-05]\n",
      "Iteracion: 57/100, Mejor valor global: [1.30160808e-05]\n",
      "Iteracion: 58/100, Mejor valor global: [1.30160808e-05]\n",
      "Iteracion: 59/100, Mejor valor global: [1.30160808e-05]\n",
      "Iteracion: 60/100, Mejor valor global: [1.30160808e-05]\n",
      "Iteracion: 61/100, Mejor valor global: [1.30160808e-05]\n",
      "Iteracion: 62/100, Mejor valor global: [1.30160808e-05]\n",
      "Iteracion: 63/100, Mejor valor global: [1.30160808e-05]\n",
      "Iteracion: 64/100, Mejor valor global: [1.30160808e-05]\n",
      "Iteracion: 65/100, Mejor valor global: [1.30160808e-05]\n",
      "Iteracion: 66/100, Mejor valor global: [1.30160808e-05]\n",
      "Iteracion: 67/100, Mejor valor global: [1.30160808e-05]\n",
      "Iteracion: 68/100, Mejor valor global: [1.30160808e-05]\n",
      "Iteracion: 69/100, Mejor valor global: [1.30160808e-05]\n",
      "Iteracion: 70/100, Mejor valor global: [1.30160808e-05]\n",
      "Iteracion: 71/100, Mejor valor global: [1.30160808e-05]\n",
      "Iteracion: 72/100, Mejor valor global: [1.30160808e-05]\n",
      "Iteracion: 73/100, Mejor valor global: [1.30160808e-05]\n",
      "Iteracion: 74/100, Mejor valor global: [1.30160808e-05]\n",
      "Iteracion: 75/100, Mejor valor global: [1.30160808e-05]\n",
      "Iteracion: 76/100, Mejor valor global: [1.30160808e-05]\n",
      "Iteracion: 77/100, Mejor valor global: [1.30160808e-05]\n",
      "Iteracion: 78/100, Mejor valor global: [1.30160808e-05]\n",
      "Iteracion: 79/100, Mejor valor global: [1.30160808e-05]\n",
      "Iteracion: 80/100, Mejor valor global: [1.30160808e-05]\n",
      "Iteracion: 81/100, Mejor valor global: [1.30160808e-05]\n",
      "Iteracion: 82/100, Mejor valor global: [1.30160808e-05]\n",
      "Iteracion: 83/100, Mejor valor global: [1.30160808e-05]\n",
      "Iteracion: 84/100, Mejor valor global: [1.30160808e-05]\n",
      "Iteracion: 85/100, Mejor valor global: [1.30160808e-05]\n",
      "Iteracion: 86/100, Mejor valor global: [1.30160808e-05]\n",
      "Iteracion: 87/100, Mejor valor global: [1.30160808e-05]\n",
      "Iteracion: 88/100, Mejor valor global: [1.30160808e-05]\n",
      "Iteracion: 89/100, Mejor valor global: [1.30160808e-05]\n",
      "Iteracion: 90/100, Mejor valor global: [1.30160808e-05]\n",
      "Iteracion: 91/100, Mejor valor global: [1.30160808e-05]\n",
      "Iteracion: 92/100, Mejor valor global: [1.30160808e-05]\n",
      "Iteracion: 93/100, Mejor valor global: [1.30160808e-05]\n",
      "Iteracion: 94/100, Mejor valor global: [1.30160808e-05]\n",
      "Iteracion: 95/100, Mejor valor global: [1.30160808e-05]\n",
      "Iteracion: 96/100, Mejor valor global: [1.30160808e-05]\n",
      "Iteracion: 97/100, Mejor valor global: [1.30160808e-05]\n",
      "Iteracion: 98/100, Mejor valor global: [1.30160808e-05]\n",
      "Iteracion: 99/100, Mejor valor global: [1.30160808e-05]\n",
      "Iteracion: 100/100, Mejor valor global: [1.30160808e-05]\n",
      "Mejor posicion encontrada: [0.00360778], con valor: [1.30160808e-05]\n"
     ]
    }
   ],
   "source": [
    "for t in range(num_iterations):\n",
    "    for i in range(num_particles):\n",
    "        fitness = objective_function(particles[i])\n",
    "        \n",
    "        if fitness > p_best_value[i]:\n",
    "            p_best_value[i] = fitness\n",
    "            p_best_position[i] = particles[i].copy()\n",
    "            \n",
    "        if fitness < g_best_value:\n",
    "            g_best_value = fitness\n",
    "            g_best_position = particles[i].copy()\n",
    "    \n",
    "    for i in range(num_particles):\n",
    "        r1 = rd.random()\n",
    "        r2 = rd.random()\n",
    "        \n",
    "        #La formula es la del apunte!!\n",
    "        velocities[i] = (w * velocities[i]) + (c1 * r1) * (p_best_position[i]-particles[i]) + c2*r2*(g_best_position-particles[i])\n",
    "        particles[i] = particles[i] + velocities[i]\n",
    "        \n",
    "        particles[i] = np.clip(particles[i], bounds[0], bounds[1])\n",
    "    \n",
    "    history_positions.append(particles.copy())\n",
    "    print(f'Iteracion: {t+1}/{num_iterations}, Mejor valor global: {g_best_value}')\n",
    "\n",
    "print(f'Mejor posicion encontrada: {g_best_position}, con valor: {g_best_value}')"
   ]
  },
  {
   "cell_type": "markdown",
   "metadata": {},
   "source": [
    "#### Conclusiones"
   ]
  },
  {
   "cell_type": "markdown",
   "metadata": {},
   "source": [
    "##### PSO es un algoritmo de optimización basado en la simulación de la conducta social de organismos, como bandadas de aves o bancos de peces. En esta practica implementamos PSO para buscar el optimo global de una función 2D (f(x) = x^2)."
   ]
  },
  {
   "cell_type": "markdown",
   "metadata": {},
   "source": [
    "#### Referencias\n",
    "##### [13] KENNEY, James y EBERHART, Rusell C,. Particle Swarm Optimization. Neural Networks, 1995. Proceedings., IEEE International Conference on vol. 4 p. 1942-1948."
   ]
  }
 ],
 "metadata": {
  "kernelspec": {
   "display_name": "Python 3",
   "language": "python",
   "name": "python3"
  },
  "language_info": {
   "codemirror_mode": {
    "name": "ipython",
    "version": 3
   },
   "file_extension": ".py",
   "mimetype": "text/x-python",
   "name": "python",
   "nbconvert_exporter": "python",
   "pygments_lexer": "ipython3",
   "version": "3.12.2"
  }
 },
 "nbformat": 4,
 "nbformat_minor": 2
}
