{
 "cells": [
  {
   "cell_type": "markdown",
   "metadata": {},
   "source": [
    "## Universidad Autonoma de Aguascalientes\n",
    "## Departamento: Ciencias de la Computación\n",
    "## Carrera: Ingeníeria en Computación Inteligente\n",
    "### Curso: Metaheuristicas I\n",
    "### Maestro: Dr. Francisco Javier Luna Rosas\n",
    "### Alumno: Diego Alberto Aranda Gonzalez\n",
    "### Semestre: Agosto_Diciembre del 2024"
   ]
  },
  {
   "cell_type": "markdown",
   "metadata": {},
   "source": [
    "## Practica No.3 Optimización por enjambre de particulas (PSO)\n",
    "### PSO es un algoritmo de optimización basado en la simulación de la conducta social de organismos, como bandadas de aves o banco de peces. En esta practica implementamos PSO para buscar el optimo global de uan función en 2D (f(x) = x^2)."
   ]
  },
  {
   "cell_type": "markdown",
   "metadata": {},
   "source": [
    "#### Paso 1: Importar las librerias necesarias"
   ]
  },
  {
   "cell_type": "code",
   "execution_count": 32,
   "metadata": {},
   "outputs": [],
   "source": [
    "import numpy as np\n",
    "import random as rd"
   ]
  },
  {
   "cell_type": "markdown",
   "metadata": {},
   "source": [
    "#### Paso 2: Definir la función objetivo"
   ]
  },
  {
   "cell_type": "code",
   "execution_count": 33,
   "metadata": {},
   "outputs": [],
   "source": [
    "def objective_function(x):\n",
    "  return x**2"
   ]
  },
  {
   "cell_type": "markdown",
   "metadata": {},
   "source": [
    "#### Paso 3: Inicializar los parámetros del PSO"
   ]
  },
  {
   "cell_type": "code",
   "execution_count": 34,
   "metadata": {},
   "outputs": [],
   "source": [
    "#Parametros PSO\n",
    "num_particles = 30\n",
    "num_dimensions = 1\n",
    "num_iterations = 100\n",
    "w = 0.5 #Factor de Inercia que controla \n",
    "c1 = 1.5 #Coeficiente cognitiva\n",
    "c2 = 2.0 #Coeficiente social\n",
    "\n",
    "#Limites de la busqueda\n",
    "bounds = (-10, 10)\n",
    "\n",
    "history_positions = []"
   ]
  },
  {
   "cell_type": "markdown",
   "metadata": {},
   "source": [
    "#### Paso 4: Calcular el Fitness"
   ]
  },
  {
   "cell_type": "code",
   "execution_count": 35,
   "metadata": {},
   "outputs": [],
   "source": [
    "#Inicializar las particulas\n",
    "particles = np.random.uniform(bounds[0], bounds[1], (num_particles,num_dimensions))\n",
    "velocities = np.random.uniform(-1,1,(num_particles,num_dimensions))\n",
    "\n",
    "#Inicializar las mejores posiciones individuales y globales\n",
    "p_best_position = particles.copy()\n",
    "p_best_value = np.array([objective_function(x) for x in particles])\n",
    "g_best_position = p_best_position[np.argmin(p_best_value)] #minimo de los valores p_best\n",
    "g_best_value = np.min(p_best_value) #Valor de la función para "
   ]
  },
  {
   "cell_type": "code",
   "execution_count": 36,
   "metadata": {},
   "outputs": [
    {
     "data": {
      "text/plain": [
       "array([[-8.45129954],\n",
       "       [-5.07604553],\n",
       "       [ 0.98925979],\n",
       "       [ 3.66522796],\n",
       "       [-9.24625745],\n",
       "       [ 5.95556314],\n",
       "       [-6.21713601],\n",
       "       [ 4.12050286],\n",
       "       [-5.04020195],\n",
       "       [ 8.05875481],\n",
       "       [ 2.52089667],\n",
       "       [ 7.65900248],\n",
       "       [-2.03147818],\n",
       "       [-6.57178342],\n",
       "       [-6.99357949],\n",
       "       [-0.46925999],\n",
       "       [-9.74900584],\n",
       "       [ 1.45959404],\n",
       "       [ 2.69162202],\n",
       "       [ 3.51192138],\n",
       "       [ 7.94890635],\n",
       "       [ 7.99583056],\n",
       "       [ 3.32261211],\n",
       "       [-2.14400884],\n",
       "       [-2.81027157],\n",
       "       [-8.78168836],\n",
       "       [ 5.14113393],\n",
       "       [ 1.51984625],\n",
       "       [-6.44458081],\n",
       "       [ 6.1871093 ]])"
      ]
     },
     "execution_count": 36,
     "metadata": {},
     "output_type": "execute_result"
    }
   ],
   "source": [
    "particles"
   ]
  },
  {
   "cell_type": "markdown",
   "metadata": {},
   "source": [
    "#### Paso 5: Implementar el ciclo principal del PSO"
   ]
  },
  {
   "cell_type": "code",
   "execution_count": 37,
   "metadata": {},
   "outputs": [
    {
     "name": "stdout",
     "output_type": "stream",
     "text": [
      "Iteracion: 1/100, Mejor valor global: 0.22020494060465556\n",
      "Iteracion: 2/100, Mejor valor global: [0.00052091]\n",
      "Iteracion: 3/100, Mejor valor global: [0.00052091]\n",
      "Iteracion: 4/100, Mejor valor global: [8.91649785e-05]\n",
      "Iteracion: 5/100, Mejor valor global: [8.91649785e-05]\n",
      "Iteracion: 6/100, Mejor valor global: [5.8595835e-06]\n",
      "Iteracion: 7/100, Mejor valor global: [9.01722202e-07]\n",
      "Iteracion: 8/100, Mejor valor global: [9.01722202e-07]\n",
      "Iteracion: 9/100, Mejor valor global: [9.01722202e-07]\n",
      "Iteracion: 10/100, Mejor valor global: [9.01722202e-07]\n",
      "Iteracion: 11/100, Mejor valor global: [9.01722202e-07]\n",
      "Iteracion: 12/100, Mejor valor global: [9.01722202e-07]\n",
      "Iteracion: 13/100, Mejor valor global: [9.01722202e-07]\n",
      "Iteracion: 14/100, Mejor valor global: [9.01722202e-07]\n",
      "Iteracion: 15/100, Mejor valor global: [9.01722202e-07]\n",
      "Iteracion: 16/100, Mejor valor global: [9.01722202e-07]\n",
      "Iteracion: 17/100, Mejor valor global: [9.01722202e-07]\n",
      "Iteracion: 18/100, Mejor valor global: [9.01722202e-07]\n",
      "Iteracion: 19/100, Mejor valor global: [9.01722202e-07]\n",
      "Iteracion: 20/100, Mejor valor global: [9.01722202e-07]\n",
      "Iteracion: 21/100, Mejor valor global: [9.01722202e-07]\n",
      "Iteracion: 22/100, Mejor valor global: [9.01722202e-07]\n",
      "Iteracion: 23/100, Mejor valor global: [9.01722202e-07]\n",
      "Iteracion: 24/100, Mejor valor global: [9.01722202e-07]\n",
      "Iteracion: 25/100, Mejor valor global: [9.01722202e-07]\n",
      "Iteracion: 26/100, Mejor valor global: [9.01722202e-07]\n",
      "Iteracion: 27/100, Mejor valor global: [9.01722202e-07]\n",
      "Iteracion: 28/100, Mejor valor global: [9.01722202e-07]\n",
      "Iteracion: 29/100, Mejor valor global: [9.01722202e-07]\n",
      "Iteracion: 30/100, Mejor valor global: [9.01722202e-07]\n",
      "Iteracion: 31/100, Mejor valor global: [9.01722202e-07]\n",
      "Iteracion: 32/100, Mejor valor global: [9.01722202e-07]\n",
      "Iteracion: 33/100, Mejor valor global: [9.01722202e-07]\n",
      "Iteracion: 34/100, Mejor valor global: [9.01722202e-07]\n",
      "Iteracion: 35/100, Mejor valor global: [9.01722202e-07]\n",
      "Iteracion: 36/100, Mejor valor global: [9.01722202e-07]\n",
      "Iteracion: 37/100, Mejor valor global: [9.01722202e-07]\n",
      "Iteracion: 38/100, Mejor valor global: [9.01722202e-07]\n",
      "Iteracion: 39/100, Mejor valor global: [9.01722202e-07]\n",
      "Iteracion: 40/100, Mejor valor global: [9.01722202e-07]\n",
      "Iteracion: 41/100, Mejor valor global: [9.01722202e-07]\n",
      "Iteracion: 42/100, Mejor valor global: [9.01722202e-07]\n",
      "Iteracion: 43/100, Mejor valor global: [9.01722202e-07]\n",
      "Iteracion: 44/100, Mejor valor global: [9.01722202e-07]\n",
      "Iteracion: 45/100, Mejor valor global: [9.01722202e-07]\n",
      "Iteracion: 46/100, Mejor valor global: [9.01722202e-07]\n",
      "Iteracion: 47/100, Mejor valor global: [9.01722202e-07]\n",
      "Iteracion: 48/100, Mejor valor global: [9.01722202e-07]\n",
      "Iteracion: 49/100, Mejor valor global: [9.01722202e-07]\n",
      "Iteracion: 50/100, Mejor valor global: [9.01722202e-07]\n",
      "Iteracion: 51/100, Mejor valor global: [9.01722202e-07]\n",
      "Iteracion: 52/100, Mejor valor global: [9.01722202e-07]\n",
      "Iteracion: 53/100, Mejor valor global: [9.01722202e-07]\n",
      "Iteracion: 54/100, Mejor valor global: [9.01722202e-07]\n",
      "Iteracion: 55/100, Mejor valor global: [9.01722202e-07]\n",
      "Iteracion: 56/100, Mejor valor global: [9.01722202e-07]\n",
      "Iteracion: 57/100, Mejor valor global: [9.01722202e-07]\n",
      "Iteracion: 58/100, Mejor valor global: [9.01722202e-07]\n",
      "Iteracion: 59/100, Mejor valor global: [9.01722202e-07]\n",
      "Iteracion: 60/100, Mejor valor global: [9.01722202e-07]\n",
      "Iteracion: 61/100, Mejor valor global: [9.01722202e-07]\n",
      "Iteracion: 62/100, Mejor valor global: [9.01722202e-07]\n",
      "Iteracion: 63/100, Mejor valor global: [9.01722202e-07]\n",
      "Iteracion: 64/100, Mejor valor global: [9.01722202e-07]\n",
      "Iteracion: 65/100, Mejor valor global: [9.01722202e-07]\n",
      "Iteracion: 66/100, Mejor valor global: [9.01722202e-07]\n",
      "Iteracion: 67/100, Mejor valor global: [9.01722202e-07]\n",
      "Iteracion: 68/100, Mejor valor global: [9.01722202e-07]\n",
      "Iteracion: 69/100, Mejor valor global: [9.01722202e-07]\n",
      "Iteracion: 70/100, Mejor valor global: [9.01722202e-07]\n",
      "Iteracion: 71/100, Mejor valor global: [9.01722202e-07]\n",
      "Iteracion: 72/100, Mejor valor global: [9.01722202e-07]\n",
      "Iteracion: 73/100, Mejor valor global: [9.01722202e-07]\n",
      "Iteracion: 74/100, Mejor valor global: [9.01722202e-07]\n",
      "Iteracion: 75/100, Mejor valor global: [9.01722202e-07]\n",
      "Iteracion: 76/100, Mejor valor global: [9.01722202e-07]\n",
      "Iteracion: 77/100, Mejor valor global: [9.01722202e-07]\n",
      "Iteracion: 78/100, Mejor valor global: [9.01722202e-07]\n",
      "Iteracion: 79/100, Mejor valor global: [9.01722202e-07]\n",
      "Iteracion: 80/100, Mejor valor global: [9.01722202e-07]\n",
      "Iteracion: 81/100, Mejor valor global: [9.01722202e-07]\n",
      "Iteracion: 82/100, Mejor valor global: [9.01722202e-07]\n",
      "Iteracion: 83/100, Mejor valor global: [9.01722202e-07]\n",
      "Iteracion: 84/100, Mejor valor global: [9.01722202e-07]\n",
      "Iteracion: 85/100, Mejor valor global: [9.01722202e-07]\n",
      "Iteracion: 86/100, Mejor valor global: [9.01722202e-07]\n",
      "Iteracion: 87/100, Mejor valor global: [9.01722202e-07]\n",
      "Iteracion: 88/100, Mejor valor global: [9.01722202e-07]\n",
      "Iteracion: 89/100, Mejor valor global: [9.01722202e-07]\n",
      "Iteracion: 90/100, Mejor valor global: [9.01722202e-07]\n",
      "Iteracion: 91/100, Mejor valor global: [9.01722202e-07]\n",
      "Iteracion: 92/100, Mejor valor global: [9.01722202e-07]\n",
      "Iteracion: 93/100, Mejor valor global: [9.01722202e-07]\n",
      "Iteracion: 94/100, Mejor valor global: [9.01722202e-07]\n",
      "Iteracion: 95/100, Mejor valor global: [9.01722202e-07]\n",
      "Iteracion: 96/100, Mejor valor global: [9.01722202e-07]\n",
      "Iteracion: 97/100, Mejor valor global: [9.01722202e-07]\n",
      "Iteracion: 98/100, Mejor valor global: [9.01722202e-07]\n",
      "Iteracion: 99/100, Mejor valor global: [9.01722202e-07]\n",
      "Iteracion: 100/100, Mejor valor global: [9.01722202e-07]\n",
      "Mejor posicion encontrada: [0.00094959], con valor: [9.01722202e-07]\n"
     ]
    }
   ],
   "source": [
    "for t in range(num_iterations):\n",
    "    for i in range(num_particles):\n",
    "        fitness = objective_function(particles[i])\n",
    "        \n",
    "        if fitness > p_best_value[i]:\n",
    "            p_best_value[i] = fitness\n",
    "            p_best_position[i] = particles[i].copy()\n",
    "            \n",
    "        if fitness < g_best_value:\n",
    "            g_best_value = fitness\n",
    "            g_best_position = particles[i].copy()\n",
    "    \n",
    "    for i in range(num_particles):\n",
    "        r1 = rd.random()\n",
    "        r2 = rd.random()\n",
    "        \n",
    "        #La formula es la del apunte!!\n",
    "        velocities[i] = (w * velocities[i]) + (c1 * r1) * (p_best_position[i]-particles[i]) + c2*r2*(g_best_position-particles[i])\n",
    "        particles[i] = particles[i] + velocities[i]\n",
    "        \n",
    "        particles[i] = np.clip(particles[i], bounds[0], bounds[1])\n",
    "    \n",
    "    history_positions.append(particles.copy())\n",
    "    print(f'Iteracion: {t+1}/{num_iterations}, Mejor valor global: {g_best_value}')\n",
    "\n",
    "print(f'Mejor posicion encontrada: {g_best_position}, con valor: {g_best_value}')"
   ]
  }
 ],
 "metadata": {
  "kernelspec": {
   "display_name": "Python 3",
   "language": "python",
   "name": "python3"
  },
  "language_info": {
   "codemirror_mode": {
    "name": "ipython",
    "version": 3
   },
   "file_extension": ".py",
   "mimetype": "text/x-python",
   "name": "python",
   "nbconvert_exporter": "python",
   "pygments_lexer": "ipython3",
   "version": "3.12.2"
  }
 },
 "nbformat": 4,
 "nbformat_minor": 2
}
