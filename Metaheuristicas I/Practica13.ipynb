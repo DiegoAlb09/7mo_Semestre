{
 "cells": [
  {
   "cell_type": "markdown",
   "metadata": {},
   "source": [
    "#### Librerias"
   ]
  },
  {
   "cell_type": "code",
   "execution_count": 8,
   "metadata": {},
   "outputs": [],
   "source": [
    "import numpy as np\n",
    "import matplotlib.pyplot as plt\n",
    "import random\n",
    "from deap import base, creator, tools, algorithms"
   ]
  },
  {
   "cell_type": "code",
   "execution_count": 9,
   "metadata": {},
   "outputs": [],
   "source": [
    "def funcion_objetivo(individuo):\n",
    "  x = individuo[0]\n",
    "  return x / (1 + x**2)"
   ]
  },
  {
   "cell_type": "code",
   "execution_count": 10,
   "metadata": {},
   "outputs": [],
   "source": [
    "RANGO_X = (0, 20) # Rango de valores para x\n",
    "POBLACION = 100 # Tamaño de la población\n",
    "GENERACIONES = 50 # Numero de generaciones\n",
    "PROB_CRUCE = 0.7 # Probabilidad de cruce\n",
    "PROB_MUTACION = 0.2 # Probabilidad de mutación\n",
    "INDIVIDUO_DIM = 1 # Dimensiones del individuo"
   ]
  },
  {
   "cell_type": "code",
   "execution_count": 11,
   "metadata": {},
   "outputs": [],
   "source": [
    "creator.create(\"FitnessMax\", base.Fitness, weights=(1.0,)) # Maximizar la funcion\n",
    "creator.create(\"Individual\", list, fitness=creator.FitnessMax) # Individuo con fitness\n",
    "\n",
    "toolbox = base.Toolbox()\n",
    "toolbox.register(\"attr_float\", random.uniform, RANGO_X[0], RANGO_X[1]) # Atributo del individuo\n",
    "toolbox.register(\"individual\", tools.initRepeat, creator.Individual, toolbox.attr_float, n=INDIVIDUO_DIM) # Crear individuo\n",
    "toolbox.register(\"population\", tools.initRepeat, list, toolbox.individual) # Crear población\n"
   ]
  },
  {
   "cell_type": "code",
   "execution_count": 12,
   "metadata": {},
   "outputs": [],
   "source": [
    "#Registrar las operaciones de selección, cruce y mutación\n",
    "toolbox.register(\"evaluate\", funcion_objetivo)\n",
    "toolbox.register(\"mate\", tools.cxBlend, alpha=0.5)\n",
    "toolbox.register(\"mutate\", tools.mutGaussian, mu=0, sigma=1, indpb=0.1)\n",
    "toolbox.register(\"select\", tools.selRoulette)\n"
   ]
  },
  {
   "cell_type": "code",
   "execution_count": 13,
   "metadata": {},
   "outputs": [],
   "source": [
    "# Funcion para ejecutar el algoritmo genetico y obtener el mejor individuo\n",
    "def ejecutar_algoritmo_genetico():\n",
    "  poblacion = toolbox.population(n=POBLACION)\n",
    "\n",
    "  #Definir estadisticas\n",
    "  stats = tools.Statistics(lambda ind: ind.fitness.values)\n",
    "  stats.register(\"max\", np.max)\n",
    "\n",
    "  #Ejecutar algoritmo genetico\n",
    "  mejor_individuo = algorithms.eaSimple(poblacion, toolbox, cxpb=PROB_CRUCE, mutpb=PROB_MUTACION, ngen=GENERACIONES, stats=stats, verbose=False)\n",
    "\n",
    "  #Obtener el mejor individuo de la población final\n",
    "  top_individuo = tools.selBest(poblacion, 1)[0]\n",
    "  return top_individuo[0], funcion_objetivo(top_individuo)[0]"
   ]
  },
  {
   "cell_type": "code",
   "execution_count": 14,
   "metadata": {},
   "outputs": [],
   "source": [
    "#Graficar función objetivo\n",
    "def graficar_función_y_solucion(mejor_x, mejor_y):\n",
    "  x_vals = np.linspace(RANGO_X[0], RANGO_X[1], 400)\n",
    "  y_vals = 1 / (1 + x_vals ** 2)\n",
    "\n",
    "  plt.plot(x_vals, y_vals, label=\"f(x) = 1 / (1 + x^2)\", color='b')\n",
    "  plt.plot(mejor_x, mejor_y, 'ro', label=f'Mejor solucion (x={mejor_x:.4f}), f(x)={mejor_y:.4f}')\n",
    "  plt.title(\"Función f(x) = 1 / (1 + x^2) y mejor solucion\")\n",
    "  plt.xlabel('x')\n",
    "  plt.ylabel('f(x)')\n",
    "  plt.grid(True)\n",
    "  plt.legend()\n",
    "  plt.show()"
   ]
  },
  {
   "cell_type": "code",
   "execution_count": 15,
   "metadata": {},
   "outputs": [
    {
     "ename": "TypeError",
     "evalue": "object of type 'float' has no len()",
     "output_type": "error",
     "traceback": [
      "\u001b[1;31m---------------------------------------------------------------------------\u001b[0m",
      "\u001b[1;31mTypeError\u001b[0m                                 Traceback (most recent call last)",
      "Cell \u001b[1;32mIn[15], line 6\u001b[0m\n\u001b[0;32m      3\u001b[0m   \u001b[38;5;28mprint\u001b[39m(\u001b[38;5;124mf\u001b[39m\u001b[38;5;124m'\u001b[39m\u001b[38;5;124mMejor solucion encontrada: x = \u001b[39m\u001b[38;5;132;01m{\u001b[39;00mmejor_x\u001b[38;5;132;01m}\u001b[39;00m\u001b[38;5;124m, f(x) = \u001b[39m\u001b[38;5;132;01m{\u001b[39;00mmejor_y\u001b[38;5;132;01m}\u001b[39;00m\u001b[38;5;124m'\u001b[39m)\n\u001b[0;32m      4\u001b[0m   graficar_función_y_solucion(mejor_x, mejor_y)\n\u001b[1;32m----> 6\u001b[0m \u001b[43mmain\u001b[49m\u001b[43m(\u001b[49m\u001b[43m)\u001b[49m\n",
      "Cell \u001b[1;32mIn[15], line 2\u001b[0m, in \u001b[0;36mmain\u001b[1;34m()\u001b[0m\n\u001b[0;32m      1\u001b[0m \u001b[38;5;28;01mdef\u001b[39;00m \u001b[38;5;21mmain\u001b[39m():\n\u001b[1;32m----> 2\u001b[0m   mejor_x, mejor_y \u001b[38;5;241m=\u001b[39m \u001b[43mejecutar_algoritmo_genetico\u001b[49m\u001b[43m(\u001b[49m\u001b[43m)\u001b[49m\n\u001b[0;32m      3\u001b[0m   \u001b[38;5;28mprint\u001b[39m(\u001b[38;5;124mf\u001b[39m\u001b[38;5;124m'\u001b[39m\u001b[38;5;124mMejor solucion encontrada: x = \u001b[39m\u001b[38;5;132;01m{\u001b[39;00mmejor_x\u001b[38;5;132;01m}\u001b[39;00m\u001b[38;5;124m, f(x) = \u001b[39m\u001b[38;5;132;01m{\u001b[39;00mmejor_y\u001b[38;5;132;01m}\u001b[39;00m\u001b[38;5;124m'\u001b[39m)\n\u001b[0;32m      4\u001b[0m   graficar_función_y_solucion(mejor_x, mejor_y)\n",
      "Cell \u001b[1;32mIn[13], line 10\u001b[0m, in \u001b[0;36mejecutar_algoritmo_genetico\u001b[1;34m()\u001b[0m\n\u001b[0;32m      7\u001b[0m stats\u001b[38;5;241m.\u001b[39mregister(\u001b[38;5;124m\"\u001b[39m\u001b[38;5;124mmax\u001b[39m\u001b[38;5;124m\"\u001b[39m, np\u001b[38;5;241m.\u001b[39mmax)\n\u001b[0;32m      9\u001b[0m \u001b[38;5;66;03m#Ejecutar algoritmo genetico\u001b[39;00m\n\u001b[1;32m---> 10\u001b[0m mejor_individuo \u001b[38;5;241m=\u001b[39m \u001b[43malgorithms\u001b[49m\u001b[38;5;241;43m.\u001b[39;49m\u001b[43meaSimple\u001b[49m\u001b[43m(\u001b[49m\u001b[43mpoblacion\u001b[49m\u001b[43m,\u001b[49m\u001b[43m \u001b[49m\u001b[43mtoolbox\u001b[49m\u001b[43m,\u001b[49m\u001b[43m \u001b[49m\u001b[43mcxpb\u001b[49m\u001b[38;5;241;43m=\u001b[39;49m\u001b[43mPROB_CRUCE\u001b[49m\u001b[43m,\u001b[49m\u001b[43m \u001b[49m\u001b[43mmutpb\u001b[49m\u001b[38;5;241;43m=\u001b[39;49m\u001b[43mPROB_MUTACION\u001b[49m\u001b[43m,\u001b[49m\u001b[43m \u001b[49m\u001b[43mngen\u001b[49m\u001b[38;5;241;43m=\u001b[39;49m\u001b[43mGENERACIONES\u001b[49m\u001b[43m,\u001b[49m\u001b[43m \u001b[49m\u001b[43mstats\u001b[49m\u001b[38;5;241;43m=\u001b[39;49m\u001b[43mstats\u001b[49m\u001b[43m,\u001b[49m\u001b[43m \u001b[49m\u001b[43mverbose\u001b[49m\u001b[38;5;241;43m=\u001b[39;49m\u001b[38;5;28;43;01mFalse\u001b[39;49;00m\u001b[43m)\u001b[49m\n\u001b[0;32m     12\u001b[0m \u001b[38;5;66;03m#Obtener el mejor individuo de la población final\u001b[39;00m\n\u001b[0;32m     13\u001b[0m top_individuo \u001b[38;5;241m=\u001b[39m tools\u001b[38;5;241m.\u001b[39mselBest(poblacion, \u001b[38;5;241m1\u001b[39m)[\u001b[38;5;241m0\u001b[39m]\n",
      "File \u001b[1;32m~\\AppData\\Roaming\\Python\\Python312\\site-packages\\deap\\algorithms.py:152\u001b[0m, in \u001b[0;36meaSimple\u001b[1;34m(population, toolbox, cxpb, mutpb, ngen, stats, halloffame, verbose)\u001b[0m\n\u001b[0;32m    150\u001b[0m fitnesses \u001b[38;5;241m=\u001b[39m toolbox\u001b[38;5;241m.\u001b[39mmap(toolbox\u001b[38;5;241m.\u001b[39mevaluate, invalid_ind)\n\u001b[0;32m    151\u001b[0m \u001b[38;5;28;01mfor\u001b[39;00m ind, fit \u001b[38;5;129;01min\u001b[39;00m \u001b[38;5;28mzip\u001b[39m(invalid_ind, fitnesses):\n\u001b[1;32m--> 152\u001b[0m     \u001b[43mind\u001b[49m\u001b[38;5;241;43m.\u001b[39;49m\u001b[43mfitness\u001b[49m\u001b[38;5;241;43m.\u001b[39;49m\u001b[43mvalues\u001b[49m \u001b[38;5;241m=\u001b[39m fit\n\u001b[0;32m    154\u001b[0m \u001b[38;5;28;01mif\u001b[39;00m halloffame \u001b[38;5;129;01mis\u001b[39;00m \u001b[38;5;129;01mnot\u001b[39;00m \u001b[38;5;28;01mNone\u001b[39;00m:\n\u001b[0;32m    155\u001b[0m     halloffame\u001b[38;5;241m.\u001b[39mupdate(population)\n",
      "File \u001b[1;32m~\\AppData\\Roaming\\Python\\Python312\\site-packages\\deap\\base.py:188\u001b[0m, in \u001b[0;36mFitness.setValues\u001b[1;34m(self, values)\u001b[0m\n\u001b[0;32m    187\u001b[0m \u001b[38;5;28;01mdef\u001b[39;00m \u001b[38;5;21msetValues\u001b[39m(\u001b[38;5;28mself\u001b[39m, values):\n\u001b[1;32m--> 188\u001b[0m     \u001b[38;5;28;01massert\u001b[39;00m \u001b[38;5;28;43mlen\u001b[39;49m\u001b[43m(\u001b[49m\u001b[43mvalues\u001b[49m\u001b[43m)\u001b[49m \u001b[38;5;241m==\u001b[39m \u001b[38;5;28mlen\u001b[39m(\u001b[38;5;28mself\u001b[39m\u001b[38;5;241m.\u001b[39mweights), \u001b[38;5;124m\"\u001b[39m\u001b[38;5;124mAssigned values have not the same length than fitness weights\u001b[39m\u001b[38;5;124m\"\u001b[39m\n\u001b[0;32m    189\u001b[0m     \u001b[38;5;28;01mtry\u001b[39;00m:\n\u001b[0;32m    190\u001b[0m         \u001b[38;5;28mself\u001b[39m\u001b[38;5;241m.\u001b[39mwvalues \u001b[38;5;241m=\u001b[39m \u001b[38;5;28mtuple\u001b[39m(\u001b[38;5;28mmap\u001b[39m(mul, values, \u001b[38;5;28mself\u001b[39m\u001b[38;5;241m.\u001b[39mweights))\n",
      "\u001b[1;31mTypeError\u001b[0m: object of type 'float' has no len()"
     ]
    }
   ],
   "source": [
    "def main():\n",
    "  mejor_x, mejor_y = ejecutar_algoritmo_genetico()\n",
    "  print(f'Mejor solucion encontrada: x = {mejor_x}, f(x) = {mejor_y}')\n",
    "  graficar_función_y_solucion(mejor_x, mejor_y)\n",
    "\n",
    "main()"
   ]
  }
 ],
 "metadata": {
  "kernelspec": {
   "display_name": "Python 3",
   "language": "python",
   "name": "python3"
  },
  "language_info": {
   "codemirror_mode": {
    "name": "ipython",
    "version": 3
   },
   "file_extension": ".py",
   "mimetype": "text/x-python",
   "name": "python",
   "nbconvert_exporter": "python",
   "pygments_lexer": "ipython3",
   "version": "3.12.2"
  }
 },
 "nbformat": 4,
 "nbformat_minor": 2
}
