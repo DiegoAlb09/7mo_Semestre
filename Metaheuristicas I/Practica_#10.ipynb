{
 "cells": [
  {
   "cell_type": "markdown",
   "metadata": {},
   "source": [
    "## Universidad Autonoma de Aguascalientes\n",
    "## Departamento de Ciencias de la Computación\n",
    "## Carrera: Ingenieria en Computación Inteligente\n",
    "## Materia: Meta - Heuristicas I\n",
    "## Maestro: Dr. Francisco Javier Luna Rosas\n",
    "## Alumno: Diego Alberto Aranda Gonzalez\n",
    "## Semestre: Agosto-Diciembre 2024"
   ]
  },
  {
   "cell_type": "markdown",
   "metadata": {},
   "source": [
    "### Practica No. 10. La busqueda local es una técnica para resolver problemas de optimización donde la solución óptima se busca moviendose iterativamente entre soluciones vecinas en el espacio de busqueda.\n",
    "El recocido simulado es un algoritmo de optimización inspirado en el proceso de recocido en metalurgía, donde un material se calienta y luego se enfria lentamente para disminuir sus efectos y alcanzar un estado mínimo de energía. En esta practica implementaremos el algoritmo Recocido Simulado para buscar el optimo global de una función en 2D: f(x)=x^2 y la graficamos."
   ]
  },
  {
   "cell_type": "markdown",
   "metadata": {},
   "source": [
    "#### Paso 1: Importar Librerias necesarias"
   ]
  },
  {
   "cell_type": "code",
   "execution_count": 142,
   "metadata": {},
   "outputs": [],
   "source": [
    "import math\n",
    "import random\n",
    "import matplotlib.pyplot as plt"
   ]
  },
  {
   "cell_type": "markdown",
   "metadata": {},
   "source": [
    "#### Paso 2: Definimos la función objetivo (x^2)"
   ]
  },
  {
   "cell_type": "code",
   "execution_count": 143,
   "metadata": {},
   "outputs": [],
   "source": [
    "def objective_function(x):\n",
    "  return x**2"
   ]
  },
  {
   "cell_type": "markdown",
   "metadata": {},
   "source": [
    "#### Paso 3: Definir la función para generar la vecindad"
   ]
  },
  {
   "cell_type": "code",
   "execution_count": 144,
   "metadata": {},
   "outputs": [],
   "source": [
    "def neighbor_solution(x):\n",
    "  return x + random.uniform(-1, 1) # Genera un vecion aleatorio cerca de x"
   ]
  },
  {
   "cell_type": "markdown",
   "metadata": {},
   "source": [
    "#### Paso 4: Definir la función del Recocido Simulado"
   ]
  },
  {
   "cell_type": "code",
   "execution_count": 145,
   "metadata": {},
   "outputs": [],
   "source": [
    "def simulate_annealing(initial_solution, initial_temperature, alpha, iterations):\n",
    "  #Inicializamos la solución actual y la mejor solución\n",
    "  current_solution = initial_solution\n",
    "  best_solution = initial_solution\n",
    "  current_temperature = initial_temperature\n",
    "\n",
    "  for i in range(iterations):\n",
    "    #Generamos un nuevo vecino\n",
    "    new_solution = neighbor_solution(current_solution)\n",
    "    #Calculamos el costo de la solución actual y la nueva \n",
    "    current_cost = objective_function(current_solution)\n",
    "    new_cost = objective_function(new_solution)\n",
    "\n",
    "    #Si la nueva solución es mejor que la actual, la aceptamos\n",
    "    if new_cost < current_cost:\n",
    "      current_solution = new_solution\n",
    "      #Si la nueva solución es mejor que la mejor solución, la actualizamos\n",
    "      if new_cost < objective_function(best_solution):\n",
    "        best_solution = new_solution\n",
    "    else:\n",
    "      #Si la nueva solucion es peor, la aceptamos con cierta probabilidad\n",
    "      probability = math.exp((current_cost - new_cost) / current_temperature)\n",
    "      if random.random() < probability:\n",
    "        current_solution = new_solution\n",
    "\n",
    "    #Disminuimos la temperatura\n",
    "    current_temperature *= alpha\n",
    "\n",
    "    #Imprimimos el progreso\n",
    "    print(f\"Iteracion {i + 1}, Solucion Actual: {current_solution}, Mejor Solucion: {best_solution}\")\n",
    "\n",
    "  return best_solution"
   ]
  },
  {
   "cell_type": "markdown",
   "metadata": {},
   "source": [
    "#### Paso 5: Parametros del algoritmo "
   ]
  },
  {
   "cell_type": "code",
   "execution_count": 146,
   "metadata": {},
   "outputs": [],
   "source": [
    "initial_solution = 10\n",
    "initial_temperature = 100\n",
    "alpha = 0.9\n",
    "iterations = 100"
   ]
  },
  {
   "cell_type": "markdown",
   "metadata": {},
   "source": [
    "#### Paso 6: Ejecutar el algoritmo de Recocido Simulado"
   ]
  },
  {
   "cell_type": "code",
   "execution_count": 147,
   "metadata": {},
   "outputs": [
    {
     "name": "stdout",
     "output_type": "stream",
     "text": [
      "Iteracion 1, Solucion Actual: 9.610295134123145, Mejor Solucion: 9.610295134123145\n",
      "Iteracion 2, Solucion Actual: 9.939804911397232, Mejor Solucion: 9.610295134123145\n",
      "Iteracion 3, Solucion Actual: 10.272372722242379, Mejor Solucion: 9.610295134123145\n",
      "Iteracion 4, Solucion Actual: 10.927931834815343, Mejor Solucion: 9.610295134123145\n",
      "Iteracion 5, Solucion Actual: 10.927931834815343, Mejor Solucion: 9.610295134123145\n",
      "Iteracion 6, Solucion Actual: 10.862376274053265, Mejor Solucion: 9.610295134123145\n",
      "Iteracion 7, Solucion Actual: 10.753329112169585, Mejor Solucion: 9.610295134123145\n",
      "Iteracion 8, Solucion Actual: 9.95148185313083, Mejor Solucion: 9.610295134123145\n",
      "Iteracion 9, Solucion Actual: 10.300880604286409, Mejor Solucion: 9.610295134123145\n",
      "Iteracion 10, Solucion Actual: 10.419113478777199, Mejor Solucion: 9.610295134123145\n",
      "Iteracion 11, Solucion Actual: 10.764002527609696, Mejor Solucion: 9.610295134123145\n",
      "Iteracion 12, Solucion Actual: 10.073771283239207, Mejor Solucion: 9.610295134123145\n",
      "Iteracion 13, Solucion Actual: 10.542489573402388, Mejor Solucion: 9.610295134123145\n",
      "Iteracion 14, Solucion Actual: 11.451334012613914, Mejor Solucion: 9.610295134123145\n",
      "Iteracion 15, Solucion Actual: 10.82916519759354, Mejor Solucion: 9.610295134123145\n",
      "Iteracion 16, Solucion Actual: 11.049499985481257, Mejor Solucion: 9.610295134123145\n",
      "Iteracion 17, Solucion Actual: 10.077932402944008, Mejor Solucion: 9.610295134123145\n",
      "Iteracion 18, Solucion Actual: 9.136082879902112, Mejor Solucion: 9.136082879902112\n",
      "Iteracion 19, Solucion Actual: 9.556343224103118, Mejor Solucion: 9.136082879902112\n",
      "Iteracion 20, Solucion Actual: 8.626169733422273, Mejor Solucion: 8.626169733422273\n",
      "Iteracion 21, Solucion Actual: 8.177795868081859, Mejor Solucion: 8.177795868081859\n",
      "Iteracion 22, Solucion Actual: 8.177795868081859, Mejor Solucion: 8.177795868081859\n",
      "Iteracion 23, Solucion Actual: 8.95605238600171, Mejor Solucion: 8.177795868081859\n",
      "Iteracion 24, Solucion Actual: 8.202112899623113, Mejor Solucion: 8.177795868081859\n",
      "Iteracion 25, Solucion Actual: 8.63543610478699, Mejor Solucion: 8.177795868081859\n",
      "Iteracion 26, Solucion Actual: 8.931107611350411, Mejor Solucion: 8.177795868081859\n",
      "Iteracion 27, Solucion Actual: 8.931107611350411, Mejor Solucion: 8.177795868081859\n",
      "Iteracion 28, Solucion Actual: 8.931107611350411, Mejor Solucion: 8.177795868081859\n",
      "Iteracion 29, Solucion Actual: 8.931107611350411, Mejor Solucion: 8.177795868081859\n",
      "Iteracion 30, Solucion Actual: 8.931107611350411, Mejor Solucion: 8.177795868081859\n",
      "Iteracion 31, Solucion Actual: 8.931107611350411, Mejor Solucion: 8.177795868081859\n",
      "Iteracion 32, Solucion Actual: 7.986125316047566, Mejor Solucion: 7.986125316047566\n",
      "Iteracion 33, Solucion Actual: 7.600895312206219, Mejor Solucion: 7.600895312206219\n",
      "Iteracion 34, Solucion Actual: 6.752521351616167, Mejor Solucion: 6.752521351616167\n",
      "Iteracion 35, Solucion Actual: 6.752521351616167, Mejor Solucion: 6.752521351616167\n",
      "Iteracion 36, Solucion Actual: 6.752521351616167, Mejor Solucion: 6.752521351616167\n",
      "Iteracion 37, Solucion Actual: 6.752521351616167, Mejor Solucion: 6.752521351616167\n",
      "Iteracion 38, Solucion Actual: 6.752521351616167, Mejor Solucion: 6.752521351616167\n",
      "Iteracion 39, Solucion Actual: 6.752521351616167, Mejor Solucion: 6.752521351616167\n",
      "Iteracion 40, Solucion Actual: 6.752521351616167, Mejor Solucion: 6.752521351616167\n",
      "Iteracion 41, Solucion Actual: 6.752521351616167, Mejor Solucion: 6.752521351616167\n",
      "Iteracion 42, Solucion Actual: 6.752059662196763, Mejor Solucion: 6.752059662196763\n",
      "Iteracion 43, Solucion Actual: 6.870728362443704, Mejor Solucion: 6.752059662196763\n",
      "Iteracion 44, Solucion Actual: 6.8844847024966285, Mejor Solucion: 6.752059662196763\n",
      "Iteracion 45, Solucion Actual: 6.8844847024966285, Mejor Solucion: 6.752059662196763\n",
      "Iteracion 46, Solucion Actual: 6.8844847024966285, Mejor Solucion: 6.752059662196763\n",
      "Iteracion 47, Solucion Actual: 6.8844847024966285, Mejor Solucion: 6.752059662196763\n",
      "Iteracion 48, Solucion Actual: 6.165781456890733, Mejor Solucion: 6.165781456890733\n",
      "Iteracion 49, Solucion Actual: 5.44811858414308, Mejor Solucion: 5.44811858414308\n",
      "Iteracion 50, Solucion Actual: 5.44811858414308, Mejor Solucion: 5.44811858414308\n",
      "Iteracion 51, Solucion Actual: 5.44811858414308, Mejor Solucion: 5.44811858414308\n",
      "Iteracion 52, Solucion Actual: 5.44811858414308, Mejor Solucion: 5.44811858414308\n",
      "Iteracion 53, Solucion Actual: 5.44811858414308, Mejor Solucion: 5.44811858414308\n",
      "Iteracion 54, Solucion Actual: 4.647990211558593, Mejor Solucion: 4.647990211558593\n",
      "Iteracion 55, Solucion Actual: 4.588275924511664, Mejor Solucion: 4.588275924511664\n",
      "Iteracion 56, Solucion Actual: 3.6668824850486788, Mejor Solucion: 3.6668824850486788\n",
      "Iteracion 57, Solucion Actual: 3.6668824850486788, Mejor Solucion: 3.6668824850486788\n",
      "Iteracion 58, Solucion Actual: 3.274130306662932, Mejor Solucion: 3.274130306662932\n",
      "Iteracion 59, Solucion Actual: 3.2432003801027793, Mejor Solucion: 3.2432003801027793\n",
      "Iteracion 60, Solucion Actual: 2.289491783321639, Mejor Solucion: 2.289491783321639\n",
      "Iteracion 61, Solucion Actual: 1.2911845936129644, Mejor Solucion: 1.2911845936129644\n",
      "Iteracion 62, Solucion Actual: 0.536535420594513, Mejor Solucion: 0.536535420594513\n",
      "Iteracion 63, Solucion Actual: 0.536535420594513, Mejor Solucion: 0.536535420594513\n",
      "Iteracion 64, Solucion Actual: 0.15307146924673187, Mejor Solucion: 0.15307146924673187\n",
      "Iteracion 65, Solucion Actual: 0.13609346896195662, Mejor Solucion: 0.13609346896195662\n",
      "Iteracion 66, Solucion Actual: -0.05304264366090172, Mejor Solucion: -0.05304264366090172\n",
      "Iteracion 67, Solucion Actual: -0.05304264366090172, Mejor Solucion: -0.05304264366090172\n",
      "Iteracion 68, Solucion Actual: -0.009098351402414995, Mejor Solucion: -0.009098351402414995\n",
      "Iteracion 69, Solucion Actual: -0.009098351402414995, Mejor Solucion: -0.009098351402414995\n",
      "Iteracion 70, Solucion Actual: -0.009098351402414995, Mejor Solucion: -0.009098351402414995\n",
      "Iteracion 71, Solucion Actual: -0.009098351402414995, Mejor Solucion: -0.009098351402414995\n",
      "Iteracion 72, Solucion Actual: -0.009098351402414995, Mejor Solucion: -0.009098351402414995\n",
      "Iteracion 73, Solucion Actual: -0.009098351402414995, Mejor Solucion: -0.009098351402414995\n",
      "Iteracion 74, Solucion Actual: -0.009098351402414995, Mejor Solucion: -0.009098351402414995\n",
      "Iteracion 75, Solucion Actual: -0.009098351402414995, Mejor Solucion: -0.009098351402414995\n",
      "Iteracion 76, Solucion Actual: -0.009098351402414995, Mejor Solucion: -0.009098351402414995\n",
      "Iteracion 77, Solucion Actual: -0.009098351402414995, Mejor Solucion: -0.009098351402414995\n",
      "Iteracion 78, Solucion Actual: -0.16917102800494166, Mejor Solucion: -0.009098351402414995\n",
      "Iteracion 79, Solucion Actual: -0.16917102800494166, Mejor Solucion: -0.009098351402414995\n",
      "Iteracion 80, Solucion Actual: -0.17766694740673805, Mejor Solucion: -0.009098351402414995\n",
      "Iteracion 81, Solucion Actual: -0.021284739914323447, Mejor Solucion: -0.009098351402414995\n",
      "Iteracion 82, Solucion Actual: -0.021284739914323447, Mejor Solucion: -0.009098351402414995\n",
      "Iteracion 83, Solucion Actual: -0.021284739914323447, Mejor Solucion: -0.009098351402414995\n",
      "Iteracion 84, Solucion Actual: -0.021284739914323447, Mejor Solucion: -0.009098351402414995\n",
      "Iteracion 85, Solucion Actual: -0.021284739914323447, Mejor Solucion: -0.009098351402414995\n",
      "Iteracion 86, Solucion Actual: -0.021284739914323447, Mejor Solucion: -0.009098351402414995\n",
      "Iteracion 87, Solucion Actual: -0.021284739914323447, Mejor Solucion: -0.009098351402414995\n",
      "Iteracion 88, Solucion Actual: -0.021284739914323447, Mejor Solucion: -0.009098351402414995\n",
      "Iteracion 89, Solucion Actual: -0.021284739914323447, Mejor Solucion: -0.009098351402414995\n",
      "Iteracion 90, Solucion Actual: -0.021284739914323447, Mejor Solucion: -0.009098351402414995\n",
      "Iteracion 91, Solucion Actual: -0.021284739914323447, Mejor Solucion: -0.009098351402414995\n",
      "Iteracion 92, Solucion Actual: -0.021284739914323447, Mejor Solucion: -0.009098351402414995\n",
      "Iteracion 93, Solucion Actual: -0.021284739914323447, Mejor Solucion: -0.009098351402414995\n",
      "Iteracion 94, Solucion Actual: -0.021284739914323447, Mejor Solucion: -0.009098351402414995\n",
      "Iteracion 95, Solucion Actual: -0.021284739914323447, Mejor Solucion: -0.009098351402414995\n",
      "Iteracion 96, Solucion Actual: -0.021284739914323447, Mejor Solucion: -0.009098351402414995\n",
      "Iteracion 97, Solucion Actual: -0.021284739914323447, Mejor Solucion: -0.009098351402414995\n",
      "Iteracion 98, Solucion Actual: 0.034459571336671546, Mejor Solucion: -0.009098351402414995\n",
      "Iteracion 99, Solucion Actual: 0.034459571336671546, Mejor Solucion: -0.009098351402414995\n",
      "Iteracion 100, Solucion Actual: 0.034459571336671546, Mejor Solucion: -0.009098351402414995\n",
      "La mejor solucion encontrada es -0.0091\n"
     ]
    }
   ],
   "source": [
    "best = simulate_annealing(initial_solution, initial_temperature, alpha, iterations)\n",
    "print(f\"La mejor solucion encontrada es {best:.4f}\")"
   ]
  },
  {
   "cell_type": "markdown",
   "metadata": {},
   "source": [
    "#### Paso 7: Graficar el algoritmo de Recocido Simulado"
   ]
  },
  {
   "cell_type": "code",
   "execution_count": 148,
   "metadata": {},
   "outputs": [
    {
     "data": {
      "image/png": "[encoded data removed]",
      "text/plain": [
       "<Figure size 640x480 with 1 Axes>"
      ]
     },
     "metadata": {},
     "output_type": "display_data"
    }
   ],
   "source": [
    "plt.figure()\n",
    "x = range(-10, 11)\n",
    "y = [objective_function(i) for i in x]\n",
    "plt.plot(x, y)\n",
    "plt.scatter(best, objective_function(best), color='red')\n",
    "plt.show()\n"
   ]
  }
 ],
 "metadata": {
  "kernelspec": {
   "display_name": "Python 3",
   "language": "python",
   "name": "python3"
  },
  "language_info": {
   "codemirror_mode": {
    "name": "ipython",
    "version": 3
   },
   "file_extension": ".py",
   "mimetype": "text/x-python",
   "name": "python",
   "nbconvert_exporter": "python",
   "pygments_lexer": "ipython3",
   "version": "3.12.2"
  }
 },
 "nbformat": 4,
 "nbformat_minor": 2
}
