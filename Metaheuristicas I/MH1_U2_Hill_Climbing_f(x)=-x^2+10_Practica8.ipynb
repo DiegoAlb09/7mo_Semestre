{
 "cells": [
  {
   "cell_type": "markdown",
   "metadata": {},
   "source": [
    "## Universidad Autonoma de Aguascalientes\n",
    "## Departamento de Ciencias de la Computación\n",
    "## Carrera: Ingenieria en Computación Inteligente\n",
    "## Materia: Meta - Heuristicas I\n",
    "## Maestro: Dr. Francisco Javier Luna Rosas\n",
    "## Alumno: Diego Alberto Aranda Gonzalez\n",
    "## Semestre: Agosto-Diciembre 2024"
   ]
  },
  {
   "cell_type": "markdown",
   "metadata": {},
   "source": [
    "#### practica No.8 Busqueda local \n",
    "\n",
    "La busqueda local es una técnica utilizada para resolver problemas de optimizacion donde la solucino óptima se busca moviendose iterativamente entre soluciones vecinas en el espacio de búsqueda\n",
    "\n",
    "\n",
    "#### Hill Climbing (Acenso de colinas)\n",
    "\n",
    "Es uno de los algoritmos mas simples de búsqueda local. Comienza con una solucoin inicial y realiza movimiento hacia soluciones vecinas que mejoran la función objetivo\n",
    "\n",
    "En eta practica implementaremos Hill Climbing para buscar el optimo global de una guncion 2D (maximo global) F(x)=-x^2+10 y la graficamos"
   ]
  },
  {
   "cell_type": "markdown",
   "metadata": {},
   "source": [
    "## 1. Librerias\n"
   ]
  },
  {
   "cell_type": "code",
   "execution_count": 1,
   "metadata": {},
   "outputs": [],
   "source": [
    "import random\n",
    "import numpy as np\n",
    "import matplotlib.pyplot as plt"
   ]
  },
  {
   "cell_type": "markdown",
   "metadata": {},
   "source": [
    "### Paso 2. Definir función objetivo"
   ]
  },
  {
   "cell_type": "code",
   "execution_count": 2,
   "metadata": {},
   "outputs": [],
   "source": [
    "def objetive_function(x):\n",
    "    return -x**2+10"
   ]
  },
  {
   "cell_type": "markdown",
   "metadata": {},
   "source": [
    "### Paso 3. Función para definir la vecindad"
   ]
  },
  {
   "cell_type": "code",
   "execution_count": 3,
   "metadata": {},
   "outputs": [],
   "source": [
    "def get_neighbors(x, step_size=0.1):\n",
    "    return [x - step_size, x + step_size]"
   ]
  },
  {
   "cell_type": "markdown",
   "metadata": {},
   "source": [
    "### Paso 4. Función para implementar el algoritmo Hill Climbing"
   ]
  },
  {
   "cell_type": "code",
   "execution_count": 4,
   "metadata": {},
   "outputs": [],
   "source": [
    "def hill_climbing(start,step_size=0.1, max_iterations=100):\n",
    "    current_solution = start\n",
    "    current_value = objetive_function(current_solution)\n",
    "    history = [(current_solution, current_value)]\n",
    "    for iteration in range(max_iterations):\n",
    "        neighbors = get_neighbors(current_solution, step_size)\n",
    "\n",
    "        next_solution = max(neighbors,key=objetive_function)\n",
    "        next_value = objetive_function(next_solution)\n",
    "\n",
    "        print(f\"Iteración {iteration}: Solucion Actual = {current_solution}, Value = {current_value}\")\n",
    "        history = history + [(next_solution, next_value)]\n",
    "        if next_value > current_value:\n",
    "            current_solution = next_solution\n",
    "            current_value = next_value\n",
    "        else:\n",
    "            print(\"Se alcanzo un máximo local\")\n",
    "            break\n",
    "\n",
    "    return current_solution, current_value, history"
   ]
  },
  {
   "cell_type": "markdown",
   "metadata": {},
   "source": [
    "### Paso 5. Definir la solución inicial"
   ]
  },
  {
   "cell_type": "code",
   "execution_count": 5,
   "metadata": {},
   "outputs": [
    {
     "name": "stdout",
     "output_type": "stream",
     "text": [
      "Iteración 0: Solucion Actual = 3.441765944187722, Value = -1.8457528145704014\n",
      "Iteración 1: Solucion Actual = 3.341765944187722, Value = -1.1673996257328572\n",
      "Iteración 2: Solucion Actual = 3.241765944187722, Value = -0.5090464368953107\n",
      "Iteración 3: Solucion Actual = 3.1417659441877217, Value = 0.1293067519422344\n",
      "Iteración 4: Solucion Actual = 3.0417659441877216, Value = 0.7476599407797782\n",
      "Iteración 5: Solucion Actual = 2.9417659441877215, Value = 1.3460131296173241\n",
      "Iteración 6: Solucion Actual = 2.8417659441877214, Value = 1.9243663184548687\n",
      "Iteración 7: Solucion Actual = 2.7417659441877213, Value = 2.482719507292413\n",
      "Iteración 8: Solucion Actual = 2.6417659441877213, Value = 3.0210726961299574\n",
      "Iteración 9: Solucion Actual = 2.541765944187721, Value = 3.5394258849675024\n",
      "Iteración 10: Solucion Actual = 2.441765944187721, Value = 4.037779073805047\n",
      "Iteración 11: Solucion Actual = 2.341765944187721, Value = 4.516132262642592\n",
      "Iteración 12: Solucion Actual = 2.241765944187721, Value = 4.974485451480136\n",
      "Iteración 13: Solucion Actual = 2.141765944187721, Value = 5.4128386403176805\n",
      "Iteración 14: Solucion Actual = 2.0417659441877207, Value = 5.831191829155225\n",
      "Iteración 15: Solucion Actual = 1.9417659441877206, Value = 6.22954501799277\n",
      "Iteración 16: Solucion Actual = 1.8417659441877205, Value = 6.607898206830314\n",
      "Iteración 17: Solucion Actual = 1.7417659441877205, Value = 6.966251395667859\n",
      "Iteración 18: Solucion Actual = 1.6417659441877204, Value = 7.3046045845054035\n",
      "Iteración 19: Solucion Actual = 1.5417659441877203, Value = 7.622957773342947\n",
      "Iteración 20: Solucion Actual = 1.4417659441877202, Value = 7.921310962180492\n",
      "Iteración 21: Solucion Actual = 1.34176594418772, Value = 8.199664151018036\n",
      "Iteración 22: Solucion Actual = 1.24176594418772, Value = 8.45801733985558\n",
      "Iteración 23: Solucion Actual = 1.14176594418772, Value = 8.696370528693125\n",
      "Iteración 24: Solucion Actual = 1.0417659441877198, Value = 8.914723717530668\n",
      "Iteración 25: Solucion Actual = 0.9417659441877199, Value = 9.113076906368212\n",
      "Iteración 26: Solucion Actual = 0.8417659441877199, Value = 9.291430095205756\n",
      "Iteración 27: Solucion Actual = 0.7417659441877199, Value = 9.449783284043301\n",
      "Iteración 28: Solucion Actual = 0.6417659441877199, Value = 9.588136472880844\n",
      "Iteración 29: Solucion Actual = 0.54176594418772, Value = 9.706489661718388\n",
      "Iteración 30: Solucion Actual = 0.44176594418771997, Value = 9.804842850555932\n",
      "Iteración 31: Solucion Actual = 0.34176594418772, Value = 9.883196039393477\n",
      "Iteración 32: Solucion Actual = 0.24176594418772, Value = 9.94154922823102\n",
      "Iteración 33: Solucion Actual = 0.14176594418771998, Value = 9.979902417068564\n",
      "Iteración 34: Solucion Actual = 0.04176594418771998, Value = 9.998255605906108\n",
      "Se alcanzo un máximo local\n",
      "Solución óptima encontrada: 0.04176594418771998, Valor: 9.998255605906108\n"
     ]
    }
   ],
   "source": [
    "initial_solution = random.uniform(-5,5)\n",
    "solution, value, history = hill_climbing(initial_solution)\n",
    "print(f\"Solución óptima encontrada: {solution}, Valor: {value}\")"
   ]
  },
  {
   "cell_type": "markdown",
   "metadata": {},
   "source": [
    "### Paso 6. Graficar la Función y los resultados"
   ]
  },
  {
   "cell_type": "code",
   "execution_count": 6,
   "metadata": {},
   "outputs": [
    {
     "data": {
      "image/png": "[encoded data removed]",
      "text/plain": [
       "<Figure size 640x480 with 1 Axes>"
      ]
     },
     "metadata": {},
     "output_type": "display_data"
    }
   ],
   "source": [
    "# Graficar la función objetivo\n",
    "x = np.linspace(-5, 5, 100)\n",
    "y = objetive_function(x)\n",
    "plt.plot(x, y, label=\"Función Objetivo\")\n",
    "# Graficar la historia\n",
    "for i in range(len(history)-1):\n",
    "    plt.plot([history[i][0], history[i+1][0]], [history[i][1], history[i+1][1]], 'ro-')\n",
    "plt.show()\n"
   ]
  },
  {
   "cell_type": "markdown",
   "metadata": {},
   "source": [
    "## Conclusiones \n",
    "### En esta practica implementamos Hill Climbing para buscar el optimo global de una función en 2D: f(x)=-x²+10 y la graficamos."
   ]
  },
  {
   "cell_type": "markdown",
   "metadata": {},
   "source": [
    "## Referencias\n",
    "### Talbi, El-Ghazali (200). \"Metaheuristics: from design to implementation\" John Wiley & Sons, Inc. 2009. ISBN 978-0-470-27858-1"
   ]
  }
 ],
 "metadata": {
  "kernelspec": {
   "display_name": "Python 3",
   "language": "python",
   "name": "python3"
  },
  "language_info": {
   "codemirror_mode": {
    "name": "ipython",
    "version": 3
   },
   "file_extension": ".py",
   "mimetype": "text/x-python",
   "name": "python",
   "nbconvert_exporter": "python",
   "pygments_lexer": "ipython3",
   "version": "3.12.3"
  }
 },
 "nbformat": 4,
 "nbformat_minor": 2
}
